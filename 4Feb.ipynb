{
 "cells": [
  {
   "cell_type": "code",
   "execution_count": null,
   "id": "d389e144-1d33-41f1-88ee-0525c62b7ce5",
   "metadata": {},
   "outputs": [],
   "source": [
    "                            4FEBRUARY ASSINGMENT"
   ]
  },
  {
   "cell_type": "code",
   "execution_count": null,
   "id": "85443ccb-6294-42c5-8ef7-b8f87c7b21c4",
   "metadata": {},
   "outputs": [],
   "source": [
    "Q1.\n",
    "Ans:-\n",
    "players=[(\"sachin tendulkar\",33357),(\"ricky ponting\",27483),(\"jack kallis\",25534),(\"virat kohli\",24936)\n",
    "players.sort(key = lambda x : x[1])\n",
    "    \n",
    "print(players)"
   ]
  },
  {
   "cell_type": "code",
   "execution_count": null,
   "id": "7b376fdf-87dc-443a-a06c-4fce1c3c6b8e",
   "metadata": {},
   "outputs": [],
   "source": [
    "Q2.\n",
    "Ans:-\n",
    "\n",
    "l=[1,2,3,4,5,6,7,8,9,10]\n",
    "\n",
    "list(map(lambda x : x**2 , l))"
   ]
  },
  {
   "cell_type": "code",
   "execution_count": null,
   "id": "5ebbd1eb-60aa-4902-82c4-b97574050820",
   "metadata": {},
   "outputs": [],
   "source": [
    "Q3.\n",
    "Ans:-\n",
    "\n",
    "l1=[1,2,3,4,5,6,7,8,9,10]\n",
    "\n",
    "tuple(map(lambda x : str(x), l1))"
   ]
  },
  {
   "cell_type": "code",
   "execution_count": null,
   "id": "6168880c-bd01-4d4f-b8da-67c353dfefab",
   "metadata": {},
   "outputs": [],
   "source": [
    "Q4.\n",
    "Ans:-\n",
    "\n",
    "from functools import reduce\n",
    "\n",
    "l2=list(range(1,26))\n",
    "\n",
    "reduce(lambda x,y : x*y , l2)"
   ]
  },
  {
   "cell_type": "code",
   "execution_count": null,
   "id": "555a50de-2037-4a57-bb50-be04b5024bc0",
   "metadata": {},
   "outputs": [],
   "source": [
    "Q5.\n",
    "Ans:-\n",
    "\n",
    "l3=[2,3,6,9,27,60,90,120,55,46]\n",
    "\n",
    "list(filter(lambda x: x % 2 = 0 and x % 3 == 0 , l3))"
   ]
  },
  {
   "cell_type": "code",
   "execution_count": null,
   "id": "b23ea883-e772-412c-aa32-d383ffe315f8",
   "metadata": {},
   "outputs": [],
   "source": [
    "Q6.\n",
    "Ans:-\n",
    "string = ['python','php','aba','radar','level']\n",
    "\n",
    "list(filter(lambda x:x==x[::-1],string))"
   ]
  }
 ],
 "metadata": {
  "kernelspec": {
   "display_name": "Python 3 (ipykernel)",
   "language": "python",
   "name": "python3"
  },
  "language_info": {
   "codemirror_mode": {
    "name": "ipython",
    "version": 3
   },
   "file_extension": ".py",
   "mimetype": "text/x-python",
   "name": "python",
   "nbconvert_exporter": "python",
   "pygments_lexer": "ipython3",
   "version": "3.10.8"
  }
 },
 "nbformat": 4,
 "nbformat_minor": 5
}
